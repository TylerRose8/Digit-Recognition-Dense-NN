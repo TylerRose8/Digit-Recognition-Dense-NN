{
 "cells": [
  {
   "cell_type": "markdown",
   "id": "ad20f53c-6ac8-477a-9e4e-ff6dd98ecc24",
   "metadata": {},
   "source": [
    "# Testing the dense NN for classification using the MNIST image data\n",
    "\n",
    "## Author: Bojian Xu, bojianxu@ewu.edu"
   ]
  },
  {
   "cell_type": "code",
   "execution_count": 1,
   "id": "9459c47e-4bca-4f45-be65-136edbd88632",
   "metadata": {},
   "outputs": [],
   "source": [
    "import numpy as np\n",
    "import pandas as pd\n",
    "import matplotlib.pyplot as plt\n",
    "import nn\n",
    "import sys\n",
    "sys.path.append('..')\n",
    "from code_misc.utils import MyUtils"
   ]
  },
  {
   "cell_type": "code",
   "execution_count": 2,
   "id": "004d2501-4984-4e71-97fc-ba307dd1a5a2",
   "metadata": {},
   "outputs": [],
   "source": [
    "k = 10  #number of classes\n",
    "d = 784 #number of features, excluding the bias feature"
   ]
  },
  {
   "cell_type": "code",
   "execution_count": 3,
   "id": "4b122b78-4cb1-4e42-a725-1427857ba84e",
   "metadata": {},
   "outputs": [
    {
     "name": "stdout",
     "output_type": "stream",
     "text": [
      "(60000, 784)\n",
      "(60000, 10)\n",
      "(10000, 784)\n",
      "(10000, 10)\n"
     ]
    }
   ],
   "source": [
    "# READ in data\n",
    "df_X_train = pd.read_csv('MNIST/x_train.csv', header=None)\n",
    "df_y_train = pd.read_csv('MNIST/y_train.csv', header=None)\n",
    "df_X_test = pd.read_csv('MNIST/x_test.csv', header=None)\n",
    "df_y_test = pd.read_csv('MNIST/y_test.csv', header=None)\n",
    "\n",
    "# save in numpy arrays\n",
    "X_train_raw = df_X_train.to_numpy()\n",
    "y_train_raw = df_y_train.to_numpy()\n",
    "X_test_raw = df_X_test.to_numpy()\n",
    "y_test_raw = df_y_test.to_numpy()\n",
    "\n",
    "# get training set size\n",
    "n_train = X_train_raw.shape[0]\n",
    "n_test = X_test_raw.shape[0]\n",
    "\n",
    "# normalize all features to [0,1]\n",
    "X_all = MyUtils.normalize_0_1(np.concatenate((X_train_raw, X_test_raw), axis=0))\n",
    "X_train = X_all[:n_train]\n",
    "X_test = X_all[n_train:]\n",
    "\n",
    "# convert each label into a 0-1 vector\n",
    "y_train = np.zeros((n_train, k))\n",
    "y_test = np.zeros((n_test, k))\n",
    "for i in range(n_train):\n",
    "    y_train[i,int(y_train_raw[i])] = 1.0\n",
    "for i in range(n_test):\n",
    "    y_test[i,int(y_test_raw[i])] = 1.0\n",
    "\n",
    "\n",
    "print(X_train.shape)\n",
    "print(y_train.shape)\n",
    "print(X_test.shape)\n",
    "print(y_test.shape)\n",
    "#print(y_test)"
   ]
  },
  {
   "cell_type": "code",
   "execution_count": 4,
   "id": "b963de09-dd31-4382-8f97-4aceb4df56d6",
   "metadata": {},
   "outputs": [],
   "source": [
    "#print(y_train[-10:])"
   ]
  },
  {
   "cell_type": "code",
   "execution_count": 5,
   "id": "ac8927c9-c95b-419c-8c66-a0bf831e5bd7",
   "metadata": {},
   "outputs": [],
   "source": [
    "# build the network\n",
    "nuts = nn.NeuralNetwork()\n",
    "\n",
    "nuts.add_layer(d = d)  # input layer - 0\n",
    "\n",
    "nuts.add_layer(d = 100, act = 'logis')  # hidden layer - 1\n",
    "nuts.add_layer(d = 30, act = 'logis')  # hiddent layer - 2\n",
    "#nuts.add_layer(d = 100, act = 'relu')  # hiddent layer - 3\n",
    "#nuts.add_layer(d = 30, act = 'relu')  # hiddent layer - 4\n",
    "\n",
    "nuts.add_layer(d = k, act = 'logis')  # output layer,    multi-class classification, #classes = k"
   ]
  },
  {
   "cell_type": "code",
   "execution_count": 6,
   "id": "558e4ccf-178b-4d39-9724-e986279d7daa",
   "metadata": {
    "scrolled": true
   },
   "outputs": [
    {
     "name": "stdout",
     "output_type": "stream",
     "text": [
      "iteration:  0\n"
     ]
    },
    {
     "ename": "TypeError",
     "evalue": "NeuralNetwork._feed_forward() takes 2 positional arguments but 3 were given",
     "output_type": "error",
     "traceback": [
      "\u001B[1;31m---------------------------------------------------------------------------\u001B[0m",
      "\u001B[1;31mTypeError\u001B[0m                                 Traceback (most recent call last)",
      "Input \u001B[1;32mIn [6]\u001B[0m, in \u001B[0;36m<module>\u001B[1;34m\u001B[0m\n\u001B[1;32m----> 1\u001B[0m sqError, prcError \u001B[38;5;241m=\u001B[39m \u001B[43mnuts\u001B[49m\u001B[38;5;241;43m.\u001B[39;49m\u001B[43mfit\u001B[49m\u001B[43m(\u001B[49m\u001B[43mX_train\u001B[49m\u001B[43m,\u001B[49m\u001B[43m \u001B[49m\u001B[43my_train\u001B[49m\u001B[43m,\u001B[49m\u001B[43m \u001B[49m\u001B[43meta\u001B[49m\u001B[43m \u001B[49m\u001B[38;5;241;43m=\u001B[39;49m\u001B[43m \u001B[49m\u001B[38;5;241;43m0.2\u001B[39;49m\u001B[43m,\u001B[49m\u001B[43m \u001B[49m\u001B[43miterations\u001B[49m\u001B[43m \u001B[49m\u001B[38;5;241;43m=\u001B[39;49m\u001B[43m \u001B[49m\u001B[38;5;241;43m20\u001B[39;49m\u001B[43m,\u001B[49m\u001B[43m \u001B[49m\u001B[43mSGD\u001B[49m\u001B[43m \u001B[49m\u001B[38;5;241;43m=\u001B[39;49m\u001B[43m \u001B[49m\u001B[38;5;28;43;01mTrue\u001B[39;49;00m\u001B[43m,\u001B[49m\u001B[43m \u001B[49m\u001B[43mmini_batch_size\u001B[49m\u001B[43m \u001B[49m\u001B[38;5;241;43m=\u001B[39;49m\u001B[43m \u001B[49m\u001B[38;5;241;43m5000\u001B[39;49m\u001B[43m)\u001B[49m\n",
      "File \u001B[1;32m~\\PycharmProjects\\Prog6\\code_NN\\nn.py:113\u001B[0m, in \u001B[0;36mNeuralNetwork.fit\u001B[1;34m(self, X, Y, eta, iterations, SGD, mini_batch_size)\u001B[0m\n\u001B[0;32m    110\u001B[0m batch_y \u001B[38;5;241m=\u001B[39m np\u001B[38;5;241m.\u001B[39marray_split(Y, mini_batch_size, axis\u001B[38;5;241m=\u001B[39m\u001B[38;5;241m0\u001B[39m)[itr \u001B[38;5;241m%\u001B[39m \u001B[38;5;28mround\u001B[39m(n \u001B[38;5;241m/\u001B[39m mini_batch_size \u001B[38;5;241m-\u001B[39m \u001B[38;5;241m0.25\u001B[39m)]\n\u001B[0;32m    112\u001B[0m \u001B[38;5;28mprint\u001B[39m(\u001B[38;5;124m'\u001B[39m\u001B[38;5;124miteration: \u001B[39m\u001B[38;5;124m'\u001B[39m, itr)\n\u001B[1;32m--> 113\u001B[0m sqError \u001B[38;5;241m=\u001B[39m \u001B[38;5;28;43mself\u001B[39;49m\u001B[38;5;241;43m.\u001B[39;49m\u001B[43m_feed_forward\u001B[49m\u001B[43m(\u001B[49m\u001B[43mbatch_X\u001B[49m\u001B[43m,\u001B[49m\u001B[43m \u001B[49m\u001B[43mbatch_y\u001B[49m\u001B[43m)\u001B[49m\n\u001B[0;32m    114\u001B[0m prcError \u001B[38;5;241m=\u001B[39m \u001B[38;5;28mself\u001B[39m\u001B[38;5;241m.\u001B[39mpredict(batch_X)\n\u001B[0;32m    115\u001B[0m sqErrors\u001B[38;5;241m.\u001B[39mappend(sqError)\n",
      "\u001B[1;31mTypeError\u001B[0m: NeuralNetwork._feed_forward() takes 2 positional arguments but 3 were given"
     ]
    }
   ],
   "source": [
    "sqError, prcError = nuts.fit(X_train, y_train, eta = 0.2, iterations = 20, SGD = True, mini_batch_size = 5000)"
   ]
  },
  {
   "cell_type": "code",
   "execution_count": null,
   "id": "59cc587c",
   "metadata": {},
   "outputs": [],
   "source": [
    "x = np.arange(len(sqError))\n",
    "#set y axis range\n",
    "plt.ylim(0.5,1)\n",
    "plt.plot(x, sqError)\n",
    "plt.show()"
   ]
  },
  {
   "cell_type": "code",
   "execution_count": null,
   "outputs": [],
   "source": [
    "x = np.arange(len(prcError))\n",
    "plt.plot(x, prcError)\n",
    "plt.show()"
   ],
   "metadata": {
    "collapsed": false,
    "pycharm": {
     "name": "#%%\n"
    }
   }
  },
  {
   "cell_type": "code",
   "execution_count": null,
   "id": "193090b5",
   "metadata": {},
   "outputs": [],
   "source": [
    "# x = np.arange(len(errors2))\n",
    "# plt.plot(x, errors2)\n",
    "# plt.show()"
   ]
  },
  {
   "cell_type": "code",
   "execution_count": null,
   "id": "b8ecd81e-7afb-4465-933a-98d53465e419",
   "metadata": {},
   "outputs": [],
   "source": [
    "print(nuts.error(X_train, y_train))\n",
    "print(nuts.error(X_test, y_test))"
   ]
  },
  {
   "cell_type": "code",
   "execution_count": null,
   "id": "caa662a0-5c7e-4399-be73-478fdec87dbd",
   "metadata": {},
   "outputs": [],
   "source": [
    "preds = nuts.predict(X_test)"
   ]
  },
  {
   "cell_type": "code",
   "execution_count": null,
   "id": "f4185626-ad8d-47ca-8253-77eb0fe21a0f",
   "metadata": {},
   "outputs": [],
   "source": [
    "# print(preds[:100])\n",
    "# print(y_test_raw[:100])\n",
    "# print(np.sum(preds != y_test_raw))"
   ]
  },
  {
   "cell_type": "code",
   "execution_count": null,
   "id": "8a159f2c-5b6c-457a-a2fb-24878a34b4e0",
   "metadata": {},
   "outputs": [],
   "source": [
    "# for i in range(y_test.shape[0]):\n",
    "#     if preds[i] != y_test_raw[i]:\n",
    "#         print('misclassified!!')\n",
    "#     print('predicted as', preds[i])\n",
    "#     print('label is', y_test_raw[i])\n",
    "# pixels = X_test_raw[i].reshape((28, 28))\n",
    "# plt.imshow(pixels, cmap='gray')\n",
    "# plt.show()\n"
   ]
  },
  {
   "cell_type": "code",
   "execution_count": null,
   "id": "4bf86f44",
   "metadata": {
    "pycharm": {
     "name": "#%%\n"
    }
   },
   "outputs": [],
   "source": [
    "\n",
    "misclassified = 0\n",
    "classified = 0\n",
    "\n",
    "for i in range(y_test.shape[0]):\n",
    "    if preds[i] != y_test_raw[i]:\n",
    "        misclassified += 1\n",
    "    else:\n",
    "        classified += 1\n",
    "print(misclassified)\n",
    "print(classified)"
   ]
  },
  {
   "cell_type": "code",
   "execution_count": null,
   "id": "75f9a372",
   "metadata": {},
   "outputs": [],
   "source": []
  },
  {
   "cell_type": "code",
   "execution_count": null,
   "outputs": [],
   "source": [],
   "metadata": {
    "collapsed": false,
    "pycharm": {
     "name": "#%%\n"
    }
   }
  }
 ],
 "metadata": {
  "kernelspec": {
   "display_name": "Python 3 (ipykernel)",
   "language": "python",
   "name": "python3"
  },
  "language_info": {
   "codemirror_mode": {
    "name": "ipython",
    "version": 3
   },
   "file_extension": ".py",
   "mimetype": "text/x-python",
   "name": "python",
   "nbconvert_exporter": "python",
   "pygments_lexer": "ipython3",
   "version": "3.9.5"
  }
 },
 "nbformat": 4,
 "nbformat_minor": 5
}