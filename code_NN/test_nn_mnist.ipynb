{
 "cells": [
  {
   "cell_type": "markdown",
   "id": "ad20f53c-6ac8-477a-9e4e-ff6dd98ecc24",
   "metadata": {},
   "source": [
    "# Testing the dense NN for classification using the MNIST image data\n",
    "\n",
    "## Author: Bojian Xu, bojianxu@ewu.edu"
   ]
  },
  {
   "cell_type": "code",
   "execution_count": 1,
   "id": "9459c47e-4bca-4f45-be65-136edbd88632",
   "metadata": {},
   "outputs": [],
   "source": [
    "import numpy as np\n",
    "import pandas as pd\n",
    "import matplotlib.pyplot as plt\n",
    "import nn\n",
    "import sys\n",
    "sys.path.append('..')\n",
    "from code_misc.utils import MyUtils"
   ]
  },
  {
   "cell_type": "code",
   "execution_count": 2,
   "id": "004d2501-4984-4e71-97fc-ba307dd1a5a2",
   "metadata": {},
   "outputs": [],
   "source": [
    "k = 10  #number of classes\n",
    "d = 784 #number of features, excluding the bias feature"
   ]
  },
  {
   "cell_type": "code",
   "execution_count": 3,
   "id": "4b122b78-4cb1-4e42-a725-1427857ba84e",
   "metadata": {},
   "outputs": [
    {
     "name": "stdout",
     "output_type": "stream",
     "text": [
      "(60000, 784)\n",
      "(60000, 10)\n",
      "(10000, 784)\n",
      "(10000, 10)\n"
     ]
    }
   ],
   "source": [
    "# READ in data\n",
    "df_X_train = pd.read_csv('MNIST/x_train.csv', header=None)\n",
    "df_y_train = pd.read_csv('MNIST/y_train.csv', header=None)\n",
    "df_X_test = pd.read_csv('MNIST/x_test.csv', header=None)\n",
    "df_y_test = pd.read_csv('MNIST/y_test.csv', header=None)\n",
    "\n",
    "# save in numpy arrays\n",
    "X_train_raw = df_X_train.to_numpy()\n",
    "y_train_raw = df_y_train.to_numpy()\n",
    "X_test_raw = df_X_test.to_numpy()\n",
    "y_test_raw = df_y_test.to_numpy()\n",
    "\n",
    "# get training set size\n",
    "n_train = X_train_raw.shape[0]\n",
    "n_test = X_test_raw.shape[0]\n",
    "\n",
    "# normalize all features to [0,1]\n",
    "X_all = MyUtils.normalize_0_1(np.concatenate((X_train_raw, X_test_raw), axis=0))\n",
    "X_train = X_all[:n_train]\n",
    "X_test = X_all[n_train:]\n",
    "\n",
    "# convert each label into a 0-1 vector\n",
    "y_train = np.zeros((n_train, k))\n",
    "y_test = np.zeros((n_test, k))\n",
    "for i in range(n_train):\n",
    "    y_train[i,int(y_train_raw[i])] = 1.0\n",
    "for i in range(n_test):\n",
    "    y_test[i,int(y_test_raw[i])] = 1.0\n",
    "\n",
    "\n",
    "print(X_train.shape)\n",
    "print(y_train.shape)\n",
    "print(X_test.shape)\n",
    "print(y_test.shape)\n",
    "#print(y_test)"
   ]
  },
  {
   "cell_type": "code",
   "execution_count": 4,
   "id": "b963de09-dd31-4382-8f97-4aceb4df56d6",
   "metadata": {},
   "outputs": [],
   "source": [
    "#print(y_train[-10:])"
   ]
  },
  {
   "cell_type": "code",
   "execution_count": 5,
   "id": "ac8927c9-c95b-419c-8c66-a0bf831e5bd7",
   "metadata": {},
   "outputs": [],
   "source": [
    "# build the network\n",
    "nuts = nn.NeuralNetwork()\n",
    "\n",
    "nuts.add_layer(d = d)  # input layer - 0\n",
    "\n",
    "nuts.add_layer(d = 50, act = 'logis')  # hidden layer - 1\n",
    "nuts.add_layer(d = 50, act = 'logis')  # hidden layer - 1\n",
    "nuts.add_layer(d = 50, act = 'logis')  # hidden layer - 1\n",
    "nuts.add_layer(d = 20, act = 'logis')  # hiddent layer - 2\n",
    "nuts.add_layer(d = 20, act = 'logis')  # hiddent layer - 2\n",
    "#nuts.add_layer(d = 100, act = 'relu')  # hiddent layer - 3\n",
    "#nuts.add_layer(d = 30, act = 'relu')  # hiddent layer - 4\n",
    "\n",
    "nuts.add_layer(d = k, act = 'logis')  # output layer,    multi-class classification, #classes = k"
   ]
  },
  {
   "cell_type": "code",
   "execution_count": 6,
   "id": "558e4ccf-178b-4d39-9724-e986279d7daa",
   "metadata": {
    "scrolled": true
   },
   "outputs": [
    {
     "name": "stdout",
     "output_type": "stream",
     "text": [
      "iteration:  0\n",
      "Time for feed-forward:  0.4706132411956787\n",
      "error:  3.156528403437616\n",
      "Time for back-propagation:  1.102130651473999\n",
      "Time for update weights:  0.0009629726409912109\n",
      "iteration:  1\n",
      "Time for feed-forward:  0.5122778415679932\n",
      "error:  2.51812208541036\n",
      "Time for back-propagation:  1.0933780670166016\n",
      "Time for update weights:  0.0\n",
      "iteration:  2\n",
      "Time for feed-forward:  0.4837038516998291\n",
      "error:  2.04553819035937\n",
      "Time for back-propagation:  1.155538558959961\n",
      "Time for update weights:  0.0\n",
      "iteration:  3\n",
      "Time for feed-forward:  0.49717164039611816\n",
      "error:  1.7161959848531236\n",
      "Time for back-propagation:  1.089301586151123\n",
      "Time for update weights:  0.0010266304016113281\n",
      "iteration:  4\n",
      "Time for feed-forward:  0.49587535858154297\n",
      "error:  1.4927615962594234\n",
      "Time for back-propagation:  1.0946362018585205\n",
      "Time for update weights:  0.0\n",
      "Time for fit-batch:  8.020027160644531\n"
     ]
    }
   ],
   "source": [
    "errors = nuts.fit(X_train, y_train, eta = 0.2, iterations = 5, SGD = False, mini_batch_size = 20)"
   ]
  },
  {
   "cell_type": "code",
   "execution_count": null,
   "id": "59cc587c",
   "metadata": {},
   "outputs": [
    {
     "name": "stderr",
     "output_type": "stream",
     "text": [
      "c:\\users\\trose8\\pycharmprojects\\prog6\\venv\\lib\\site-packages\\numpy\\core\\shape_base.py:65: VisibleDeprecationWarning: Creating an ndarray from ragged nested sequences (which is a list-or-tuple of lists-or-tuples-or ndarrays with different lengths or shapes) is deprecated. If you meant to do this, you must specify 'dtype=object' when creating the ndarray.\n",
      "  ary = asanyarray(ary)\n"
     ]
    },
    {
     "data": {
      "image/png": "[encoded data removed]",
      "text/plain": [
       "<Figure size 432x288 with 1 Axes>"
      ]
     },
     "metadata": {
      "needs_background": "light"
     },
     "output_type": "display_data"
    }
   ],
   "source": [
    "x = np.arange(len(errors))\n",
    "plt.plot(x, errors)\n",
    "plt.show()"
   ]
  },
  {
   "cell_type": "code",
   "execution_count": 7,
   "id": "193090b5",
   "metadata": {},
   "outputs": [
    {
     "name": "stdout",
     "output_type": "stream",
     "text": [
      "ERROR! Session/line number was not unique in"
     ]
    }
   ],
   "source": [
    "# x = np.arange(len(errors2))\n",
    "# plt.plot(x, errors2)\n",
    "# plt.show()"
   ]
  },
  {
   "cell_type": "code",
   "execution_count": 8,
   "id": "b8ecd81e-7afb-4465-933a-98d53465e419",
   "metadata": {},
   "outputs": [
    {
     "name": "stdout",
     "output_type": "stream",
     "text": [
      " database. History logging moved to new session 8\n",
      "Time for feed-forward:  0.5128738880157471\n",
      "0.8876333333333334\n",
      "Time for feed-forward:  0.09371471405029297\n",
      "0.8865\n"
     ]
    }
   ],
   "source": [
    "print(nuts.error(X_train, y_train))\n",
    "print(nuts.error(X_test, y_test))"
   ]
  },
  {
   "cell_type": "code",
   "execution_count": 9,
   "id": "caa662a0-5c7e-4399-be73-478fdec87dbd",
   "metadata": {},
   "outputs": [
    {
     "name": "stdout",
     "output_type": "stream",
     "text": [
      "Time for feed-forward:  0.06992006301879883\n"
     ]
    }
   ],
   "source": [
    "preds = nuts.predict(X_test)"
   ]
  },
  {
   "cell_type": "code",
   "execution_count": 10,
   "id": "f4185626-ad8d-47ca-8253-77eb0fe21a0f",
   "metadata": {},
   "outputs": [],
   "source": [
    "#print(preds[:100])\n",
    "#print(y_test_raw[:100])\n",
    "#print(np.sum(preds != y_test_raw))"
   ]
  },
  {
   "cell_type": "code",
   "execution_count": 11,
   "id": "8a159f2c-5b6c-457a-a2fb-24878a34b4e0",
   "metadata": {},
   "outputs": [],
   "source": [
    "# for i in range(y_test.shape[0]):\n",
    "#     if preds[i] != y_test_raw[i]:\n",
    "#         print('misclassified!!')\n",
    "#     print('predicted as', preds[i])\n",
    "#     print('label is', y_test_raw[i])\n",
    "#     pixels = X_test_raw[i].reshape((28, 28))\n",
    "#     plt.imshow(pixels, cmap='gray')\n",
    "#    plt.show()\n"
   ]
  },
  {
   "cell_type": "code",
   "execution_count": 12,
   "id": "4bf86f44",
   "metadata": {
    "pycharm": {
     "name": "#%%\n"
    }
   },
   "outputs": [
    {
     "name": "stdout",
     "output_type": "stream",
     "text": [
      "8865\n",
      "1135\n"
     ]
    }
   ],
   "source": [
    "\n",
    "misclassified = 0\n",
    "classified = 0\n",
    "\n",
    "for i in range(y_test.shape[0]):\n",
    "    if preds[i] != y_test_raw[i]:\n",
    "        misclassified += 1\n",
    "    else:\n",
    "        classified += 1\n",
    "print(misclassified)\n",
    "print(classified)"
   ]
  },
  {
   "cell_type": "code",
   "execution_count": null,
   "id": "75f9a372",
   "metadata": {},
   "outputs": [],
   "source": []
  }
 ],
 "metadata": {
  "kernelspec": {
   "display_name": "Python 3 (ipykernel)",
   "language": "python",
   "name": "python3"
  },
  "language_info": {
   "codemirror_mode": {
    "name": "ipython",
    "version": 3
   },
   "file_extension": ".py",
   "mimetype": "text/x-python",
   "name": "python",
   "nbconvert_exporter": "python",
   "pygments_lexer": "ipython3",
   "version": "3.9.5"
  }
 },
 "nbformat": 4,
 "nbformat_minor": 5
}